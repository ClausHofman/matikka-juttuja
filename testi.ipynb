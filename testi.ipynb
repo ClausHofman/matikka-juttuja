{
 "cells": [
  {
   "cell_type": "code",
   "execution_count": null,
   "metadata": {},
   "outputs": [],
   "source": []
  }
 ],
 "metadata": {
  "kernelspec": {
   "display_name": "Python 3.9.13 64-bit",
   "language": "python",
   "name": "python3"
  },
  "language_info": {
   "name": "python",
   "version": "3.9.13"
  },
  "orig_nbformat": 4,
  "vscode": {
   "interpreter": {
    "hash": "b267d3a03c0945c52662b995d04029ba398a7f69c7a0980781b01e8df4681f34"
   }
  }
 },
 "nbformat": 4,
 "nbformat_minor": 2
}
